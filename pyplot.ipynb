{
 "cells": [
  {
   "cell_type": "code",
   "execution_count": 1,
   "metadata": {},
   "outputs": [],
   "source": [
    "# installing the modules we will use (run it only the first time)\n",
    "#! pip install pydataset\n",
    "#! pip install matplotlib\n",
    "#! pip install pandas\n",
    "#! pip install seaborn"
   ]
  },
  {
   "cell_type": "code",
   "execution_count": null,
   "metadata": {},
   "outputs": [],
   "source": [
    "# THINGS TO DO: PRINT DF BEFORE PLOTTING EVERY TIME"
   ]
  },
  {
   "cell_type": "code",
   "execution_count": null,
   "metadata": {},
   "outputs": [],
   "source": []
  },
  {
   "cell_type": "code",
   "execution_count": null,
   "metadata": {},
   "outputs": [],
   "source": []
  },
  {
   "cell_type": "code",
   "execution_count": 25,
   "metadata": {},
   "outputs": [
    {
     "data": {
      "text/html": [
       "<div>\n",
       "<style scoped>\n",
       "    .dataframe tbody tr th:only-of-type {\n",
       "        vertical-align: middle;\n",
       "    }\n",
       "\n",
       "    .dataframe tbody tr th {\n",
       "        vertical-align: top;\n",
       "    }\n",
       "\n",
       "    .dataframe thead th {\n",
       "        text-align: right;\n",
       "    }\n",
       "</style>\n",
       "<table border=\"1\" class=\"dataframe\">\n",
       "  <thead>\n",
       "    <tr style=\"text-align: right;\">\n",
       "      <th></th>\n",
       "      <th>Fertility</th>\n",
       "      <th>Agriculture</th>\n",
       "      <th>Examination</th>\n",
       "      <th>Education</th>\n",
       "      <th>Catholic</th>\n",
       "      <th>Infant.Mortality</th>\n",
       "    </tr>\n",
       "  </thead>\n",
       "  <tbody>\n",
       "    <tr>\n",
       "      <th>Courtelary</th>\n",
       "      <td>80.2</td>\n",
       "      <td>17.0</td>\n",
       "      <td>15</td>\n",
       "      <td>12</td>\n",
       "      <td>9.96</td>\n",
       "      <td>22.2</td>\n",
       "    </tr>\n",
       "    <tr>\n",
       "      <th>Delemont</th>\n",
       "      <td>83.1</td>\n",
       "      <td>45.1</td>\n",
       "      <td>6</td>\n",
       "      <td>9</td>\n",
       "      <td>84.84</td>\n",
       "      <td>22.2</td>\n",
       "    </tr>\n",
       "    <tr>\n",
       "      <th>Franches-Mnt</th>\n",
       "      <td>92.5</td>\n",
       "      <td>39.7</td>\n",
       "      <td>5</td>\n",
       "      <td>5</td>\n",
       "      <td>93.40</td>\n",
       "      <td>20.2</td>\n",
       "    </tr>\n",
       "    <tr>\n",
       "      <th>Moutier</th>\n",
       "      <td>85.8</td>\n",
       "      <td>36.5</td>\n",
       "      <td>12</td>\n",
       "      <td>7</td>\n",
       "      <td>33.77</td>\n",
       "      <td>20.3</td>\n",
       "    </tr>\n",
       "    <tr>\n",
       "      <th>Neuveville</th>\n",
       "      <td>76.9</td>\n",
       "      <td>43.5</td>\n",
       "      <td>17</td>\n",
       "      <td>15</td>\n",
       "      <td>5.16</td>\n",
       "      <td>20.6</td>\n",
       "    </tr>\n",
       "  </tbody>\n",
       "</table>\n",
       "</div>"
      ],
      "text/plain": [
       "              Fertility  Agriculture  Examination  Education  Catholic  \\\n",
       "Courtelary         80.2         17.0           15         12      9.96   \n",
       "Delemont           83.1         45.1            6          9     84.84   \n",
       "Franches-Mnt       92.5         39.7            5          5     93.40   \n",
       "Moutier            85.8         36.5           12          7     33.77   \n",
       "Neuveville         76.9         43.5           17         15      5.16   \n",
       "\n",
       "              Infant.Mortality  \n",
       "Courtelary                22.2  \n",
       "Delemont                  22.2  \n",
       "Franches-Mnt              20.2  \n",
       "Moutier                   20.3  \n",
       "Neuveville                20.6  "
      ]
     },
     "execution_count": 25,
     "metadata": {},
     "output_type": "execute_result"
    }
   ],
   "source": [
    "# Before we start with matplotlib we will need some data to plot, let's import example dataframes\n",
    "from pydataset import data\n",
    "swiss = data('swiss')\n",
    "swiss.head()"
   ]
  },
  {
   "cell_type": "code",
   "execution_count": 46,
   "metadata": {},
   "outputs": [
    {
     "data": {
      "text/html": [
       "<div>\n",
       "<style scoped>\n",
       "    .dataframe tbody tr th:only-of-type {\n",
       "        vertical-align: middle;\n",
       "    }\n",
       "\n",
       "    .dataframe tbody tr th {\n",
       "        vertical-align: top;\n",
       "    }\n",
       "\n",
       "    .dataframe thead th {\n",
       "        text-align: right;\n",
       "    }\n",
       "</style>\n",
       "<table border=\"1\" class=\"dataframe\">\n",
       "  <thead>\n",
       "    <tr style=\"text-align: right;\">\n",
       "      <th></th>\n",
       "      <th>date</th>\n",
       "      <th>unemploy</th>\n",
       "    </tr>\n",
       "  </thead>\n",
       "  <tbody>\n",
       "    <tr>\n",
       "      <th>474</th>\n",
       "      <td>2006-11-30</td>\n",
       "      <td>6849</td>\n",
       "    </tr>\n",
       "    <tr>\n",
       "      <th>475</th>\n",
       "      <td>2006-12-31</td>\n",
       "      <td>7017</td>\n",
       "    </tr>\n",
       "    <tr>\n",
       "      <th>476</th>\n",
       "      <td>2007-01-31</td>\n",
       "      <td>6865</td>\n",
       "    </tr>\n",
       "    <tr>\n",
       "      <th>477</th>\n",
       "      <td>2007-02-28</td>\n",
       "      <td>6724</td>\n",
       "    </tr>\n",
       "    <tr>\n",
       "      <th>478</th>\n",
       "      <td>2007-03-31</td>\n",
       "      <td>6801</td>\n",
       "    </tr>\n",
       "  </tbody>\n",
       "</table>\n",
       "</div>"
      ],
      "text/plain": [
       "          date  unemploy\n",
       "474 2006-11-30      6849\n",
       "475 2006-12-31      7017\n",
       "476 2007-01-31      6865\n",
       "477 2007-02-28      6724\n",
       "478 2007-03-31      6801"
      ]
     },
     "execution_count": 46,
     "metadata": {},
     "output_type": "execute_result"
    }
   ],
   "source": [
    "economics = data('economics')\n",
    "\n",
    "# make sure that python knows that the date is a date\n",
    "import pandas as pd\n",
    "economics['date'] = pd.to_datetime(economics.date)\n",
    "\n",
    "economics[['date','unemploy']].tail()"
   ]
  },
  {
   "cell_type": "code",
   "execution_count": 27,
   "metadata": {},
   "outputs": [
    {
     "data": {
      "text/html": [
       "<div>\n",
       "<style scoped>\n",
       "    .dataframe tbody tr th:only-of-type {\n",
       "        vertical-align: middle;\n",
       "    }\n",
       "\n",
       "    .dataframe tbody tr th {\n",
       "        vertical-align: top;\n",
       "    }\n",
       "\n",
       "    .dataframe thead th {\n",
       "        text-align: right;\n",
       "    }\n",
       "</style>\n",
       "<table border=\"1\" class=\"dataframe\">\n",
       "  <thead>\n",
       "    <tr style=\"text-align: right;\">\n",
       "      <th></th>\n",
       "      <th>body</th>\n",
       "      <th>brain</th>\n",
       "      <th>brain_to_body_ratio</th>\n",
       "    </tr>\n",
       "  </thead>\n",
       "  <tbody>\n",
       "    <tr>\n",
       "      <th>African elephant</th>\n",
       "      <td>6654.0</td>\n",
       "      <td>5712.0</td>\n",
       "      <td>0.858431</td>\n",
       "    </tr>\n",
       "    <tr>\n",
       "      <th>Asian elephant</th>\n",
       "      <td>2547.0</td>\n",
       "      <td>4603.0</td>\n",
       "      <td>1.807224</td>\n",
       "    </tr>\n",
       "    <tr>\n",
       "      <th>Giraffe</th>\n",
       "      <td>529.0</td>\n",
       "      <td>680.0</td>\n",
       "      <td>1.285444</td>\n",
       "    </tr>\n",
       "    <tr>\n",
       "      <th>Horse</th>\n",
       "      <td>521.0</td>\n",
       "      <td>655.0</td>\n",
       "      <td>1.257198</td>\n",
       "    </tr>\n",
       "    <tr>\n",
       "      <th>Cow</th>\n",
       "      <td>465.0</td>\n",
       "      <td>423.0</td>\n",
       "      <td>0.909677</td>\n",
       "    </tr>\n",
       "  </tbody>\n",
       "</table>\n",
       "</div>"
      ],
      "text/plain": [
       "                    body   brain  brain_to_body_ratio\n",
       "African elephant  6654.0  5712.0             0.858431\n",
       "Asian elephant    2547.0  4603.0             1.807224\n",
       "Giraffe            529.0   680.0             1.285444\n",
       "Horse              521.0   655.0             1.257198\n",
       "Cow                465.0   423.0             0.909677"
      ]
     },
     "execution_count": 27,
     "metadata": {},
     "output_type": "execute_result"
    }
   ],
   "source": [
    "mammals = data('mammals').sort_values(\"body\",ascending=False).head(10)\n",
    "mammals['brain_to_body_ratio']=mammals.brain/mammals.body\n",
    "mammals.head()"
   ]
  },
  {
   "cell_type": "code",
   "execution_count": 28,
   "metadata": {},
   "outputs": [
    {
     "data": {
      "text/html": [
       "<div>\n",
       "<style scoped>\n",
       "    .dataframe tbody tr th:only-of-type {\n",
       "        vertical-align: middle;\n",
       "    }\n",
       "\n",
       "    .dataframe tbody tr th {\n",
       "        vertical-align: top;\n",
       "    }\n",
       "\n",
       "    .dataframe thead th {\n",
       "        text-align: right;\n",
       "    }\n",
       "</style>\n",
       "<table border=\"1\" class=\"dataframe\">\n",
       "  <thead>\n",
       "    <tr style=\"text-align: right;\">\n",
       "      <th></th>\n",
       "      <th>Sepal.Length</th>\n",
       "      <th>Sepal.Width</th>\n",
       "      <th>Petal.Length</th>\n",
       "      <th>Petal.Width</th>\n",
       "      <th>Species</th>\n",
       "    </tr>\n",
       "  </thead>\n",
       "  <tbody>\n",
       "    <tr>\n",
       "      <th>1</th>\n",
       "      <td>5.1</td>\n",
       "      <td>3.5</td>\n",
       "      <td>1.4</td>\n",
       "      <td>0.2</td>\n",
       "      <td>setosa</td>\n",
       "    </tr>\n",
       "    <tr>\n",
       "      <th>2</th>\n",
       "      <td>4.9</td>\n",
       "      <td>3.0</td>\n",
       "      <td>1.4</td>\n",
       "      <td>0.2</td>\n",
       "      <td>setosa</td>\n",
       "    </tr>\n",
       "    <tr>\n",
       "      <th>3</th>\n",
       "      <td>4.7</td>\n",
       "      <td>3.2</td>\n",
       "      <td>1.3</td>\n",
       "      <td>0.2</td>\n",
       "      <td>setosa</td>\n",
       "    </tr>\n",
       "    <tr>\n",
       "      <th>4</th>\n",
       "      <td>4.6</td>\n",
       "      <td>3.1</td>\n",
       "      <td>1.5</td>\n",
       "      <td>0.2</td>\n",
       "      <td>setosa</td>\n",
       "    </tr>\n",
       "    <tr>\n",
       "      <th>5</th>\n",
       "      <td>5.0</td>\n",
       "      <td>3.6</td>\n",
       "      <td>1.4</td>\n",
       "      <td>0.2</td>\n",
       "      <td>setosa</td>\n",
       "    </tr>\n",
       "  </tbody>\n",
       "</table>\n",
       "</div>"
      ],
      "text/plain": [
       "   Sepal.Length  Sepal.Width  Petal.Length  Petal.Width Species\n",
       "1           5.1          3.5           1.4          0.2  setosa\n",
       "2           4.9          3.0           1.4          0.2  setosa\n",
       "3           4.7          3.2           1.3          0.2  setosa\n",
       "4           4.6          3.1           1.5          0.2  setosa\n",
       "5           5.0          3.6           1.4          0.2  setosa"
      ]
     },
     "execution_count": 28,
     "metadata": {},
     "output_type": "execute_result"
    }
   ],
   "source": [
    "iris = data('iris')\n",
    "iris.head()"
   ]
  },
  {
   "cell_type": "code",
   "execution_count": null,
   "metadata": {},
   "outputs": [],
   "source": []
  },
  {
   "cell_type": "code",
   "execution_count": 29,
   "metadata": {},
   "outputs": [],
   "source": [
    "# MATPLOTLIB\n",
    "# matplotlib is a library to create visualizations\n",
    "# pyplot is an interface to simplify the creation of plots with matplotlib\n",
    "\n",
    "import matplotlib.pyplot as plt # importing pyplot is as plt is a very common convention"
   ]
  },
  {
   "cell_type": "code",
   "execution_count": 30,
   "metadata": {},
   "outputs": [],
   "source": [
    "# BASIC RULES OF PLOTTING\n",
    "# Avoid plot overcrowding. People seeing your slides must understand what you mean in 2 seconds max\n",
    "# To do this remove anything on the plot that is not necessary and highlight what matters"
   ]
  },
  {
   "cell_type": "code",
   "execution_count": 230,
   "metadata": {},
   "outputs": [
    {
     "name": "stderr",
     "output_type": "stream",
     "text": [
      "<ipython-input-230-1cfc13ed1dfd>:38: UserWarning: FixedFormatter should only be used together with FixedLocator\n",
      "  axes.set_xticklabels(x_ticks_labels_modified, rotation = 45, ha=\"center\") # set the labels with a 45 degrees rotation\n"
     ]
    },
    {
     "data": {
      "text/plain": [
       "<Figure size 432x288 with 0 Axes>"
      ]
     },
     "metadata": {},
     "output_type": "display_data"
    },
    {
     "data": {
      "image/png": "[encoded data removed]",
      "text/plain": [
       "<Figure size 432x288 with 1 Axes>"
      ]
     },
     "metadata": {
      "needs_background": "light"
     },
     "output_type": "display_data"
    }
   ],
   "source": [
    "# CREATE A BASIC SCATTER PLOT WITH PLT\n",
    "\n",
    "plt.clf() # this command is hear to clear any previous plot. when something doesn't make sense on your plot,\n",
    "#use that, it may be settings of your previous plot interfering\n",
    "\n",
    "# We start by creating 2 objects: fig and axes\n",
    "# fig is the figure, a container that will host 1 or more plots.\n",
    "# axes is the collection of plots that will be displayed on fig.\n",
    "# it's called axes and not plots because 1 plot is made of axes (x axis and y axis). \n",
    "\n",
    "fig, axes = plt.subplots() # here the axes object will contain only 1 plot\n",
    "\n",
    "# now let's plot some data\n",
    "\n",
    "df = swiss.copy() #if you don't use .copy(), python will think that df is swiss, and any modification you make to df\n",
    "# will also be made to swiss, which is confusing, so whatch out\n",
    "\n",
    "x_axis = 'Infant.Mortality'\n",
    "y_axis = 'Fertility'\n",
    "\n",
    "axes.scatter(x=df[x_axis], y=df[y_axis], color=\"steelblue\", marker ='o')\n",
    "\n",
    "# Set a title\n",
    "axes.set_title(y_axis+\" vs \"+x_axis+\" scatter plot\")\n",
    "\n",
    "# set x and y axes labels\n",
    "axes.set_ylabel(y_axis)\n",
    "axes.set_xlabel(x_axis)\n",
    "\n",
    "\n",
    "# hide the frame around the plot, to avoid overcrowding \n",
    "for position in axes.spines.keys():\n",
    "  axes.spines[position].set_visible(False)\n",
    "\n",
    "# rotate the x ticks labels\n",
    "x_ticks_labels = axes.get_xticks() # retrieve the ticks labels\n",
    "x_ticks_labels_modified = [int(x) for x in x_ticks_labels] # turn labels into integers (otherwise they become floats for some reasons)\n",
    "axes.set_xticklabels(x_ticks_labels_modified, rotation = 45, ha=\"center\") # set the labels with a 45 degrees rotation\n",
    "\n",
    "# save the file. useful if you then want to integrate it in an html code and/or make a pdf out of it\n",
    "plt.savefig(\"fig.png\",bbox_inches='tight') # the figure will be save as a png file in your repository\n",
    "plt.show()"
   ]
  },
  {
   "cell_type": "markdown",
   "metadata": {},
   "source": [
    "The following images come from this [Must read Matplotlib for nerds](https://dev.to/skotaro/artist-in-matplotlib---something-i-wanted-to-know-before-spending-tremendous-hours-on-googling-how-tos--31oo).\n",
    "\n",
    "# HIGH LEVEL STRUCTURE IN MATPLOTLIB\n",
    "![fig and axes structure >](fig_axes_axis.png)"
   ]
  },
  {
   "cell_type": "markdown",
   "metadata": {},
   "source": [
    "# STRUCTURE INSIDE AN AXES OBJECT\n",
    "![everything_is_an_artist >](everything_is_an_artist.png)"
   ]
  },
  {
   "cell_type": "code",
   "execution_count": 288,
   "metadata": {},
   "outputs": [
    {
     "data": {
      "text/plain": [
       "<Figure size 432x288 with 0 Axes>"
      ]
     },
     "metadata": {},
     "output_type": "display_data"
    },
    {
     "data": {
      "image/png": "[encoded data removed]",
      "text/plain": [
       "<Figure size 432x288 with 1 Axes>"
      ]
     },
     "metadata": {
      "needs_background": "light"
     },
     "output_type": "display_data"
    }
   ],
   "source": [
    "plt.clf()\n",
    "\n",
    "fig, axes = plt.subplots()\n",
    "\n",
    "df = swiss.copy()\n",
    "\n",
    "x_axis = 'Infant.Mortality'\n",
    "y_axis = 'Fertility'\n",
    "colors = 'Education'\n",
    "sizes = 'Examination'\n",
    "\n",
    "scatter = axes.scatter(x=df[x_axis], y=df[y_axis], c=df[colors], s= df[size], marker ='o') \n",
    "# watch out, the argument for the color is not \"color\" this time, it's just c. \n",
    "# the c argument allows us to pass a series of values that will be mapped to a color gradient, instead of a single color\n",
    "# s is the argument for the size of the dots\n",
    "# instead of just using axes.scatter(), we created a variable called scatter equale to axes.scatter()\n",
    "# the reason is that we will need to extract the legend elements later from scatter\n",
    "\n",
    "\n",
    "# It's beautiful and everything but the tricky part is adding a legend for both size and colors\n",
    "\n",
    "# First we create a legend for the colors.\n",
    "legendcolors = axes.legend(*scatter.legend_elements(), title=colors,\n",
    "                    loc=\"upper right\", bbox_to_anchor=(1.25, 1)) \n",
    "# Instead of just adding the legend to the axes with axes.legend(), we assign the outcome to a variable legendcolors.\n",
    "# the reason is that, when we create the size legend just below, we will overwrite our color legend\n",
    "# So we need to add a new container (called a new artist) and give it our color legend:\n",
    "axes.add_artist(legendcolors)\n",
    "\n",
    "# Now we can add safely a legend to the axes for the sizes\n",
    "handles, labels = scatter.legend_elements(prop=\"sizes\", alpha=0.6)\n",
    "axes.legend(handles, labels, title=sizes, loc=\"upper right\", bbox_to_anchor=(1.5, 1))\n",
    "# couple of things to note:\n",
    "# we used loc = 'upper right' to place the legend on the top right corner\n",
    "# then we used bbox_to_anchor to move the legend further to the right, so it is outside the plot\n",
    "\n",
    "plt.show()"
   ]
  },
  {
   "cell_type": "code",
   "execution_count": null,
   "metadata": {},
   "outputs": [],
   "source": []
  },
  {
   "cell_type": "code",
   "execution_count": null,
   "metadata": {},
   "outputs": [],
   "source": [
    "# SHOW MORE THAN 3 DIMENSIONS WITH SEABORN\n",
    "\n",
    "# the iris dataset has 5 dimensiond\n",
    "print(iris.head())\n",
    "\n",
    "# How do we plot as many as possible?\n",
    "x_axis = 'Sepal.Length'\n",
    "y_axis = 'Petal.Length'\n",
    "sizes_column = 'Sepal.Width'\n",
    "colors_column = 'Species'\n",
    "\n",
    "import seaborn as sns\n",
    "\n",
    "sns.relplot(x=x_axis, y=y_axis, hue=colors_column, size=sizes_column,\n",
    "            sizes=(40, 400), alpha=.5, palette=\"muted\",\n",
    "            height=6, aspect = 1.8, data=iris)\n",
    "\n",
    "plt.show()\n",
    "\n",
    "# Why aren't we using fig, axes = plt.suplots() and ax = axes inside the relplot function?\n",
    "# it's because the relplot function returns a figure, not just an axes object, so that wouldn't work\n",
    "# sns is full of little inconsistencies like that, so use it mindfully. \n",
    "# when we use displot later on, there is no problem"
   ]
  },
  {
   "cell_type": "code",
   "execution_count": 32,
   "metadata": {},
   "outputs": [
    {
     "data": {
      "image/png": "[encoded data removed]",
      "text/plain": [
       "<Figure size 648x504 with 4 Axes>"
      ]
     },
     "metadata": {
      "needs_background": "light"
     },
     "output_type": "display_data"
    }
   ],
   "source": [
    "# CREATE A MULTIPLE PLOTS FIGURE WITH PLT\n",
    "\n",
    "# Here we create 4 plots that will be arranged on 2 rows and 2 columns.\n",
    "# We use figsize to increase the figure size and leave enough space for all plots. The first number is the \n",
    "# width, the second is the height. The default values are: (6.4,4.8)\n",
    "fig, axes = plt.subplots(2,2, figsize=(9,7)) \n",
    "\n",
    "\n",
    "# We access each plot in the object axes using indexing. in our case axes has 2 plots on 2 rows, so we \n",
    "# need 2 indices to identify the plot: one for the row, one for the column: axes[0,0] would be the top \n",
    "# left plot, axes[0,1] the top right plot, axes[1,0] the bottom left plot and axes[1,1] the bottom right plot.\n",
    "# Note that if we have only 1 row or one column, for example with plt.subplots(1,2), then only one index is \n",
    "# needed, and we would simply use, for example for the first plot: axes[0]\n",
    "\n",
    "# now let's plot some data\n",
    "axes[0,0].scatter(x=swiss.Fertility, y=swiss['Infant.Mortality'], color=\"steelblue\", marker ='o')\n",
    "axes[0,1].scatter(x=swiss.Education, y=swiss['Infant.Mortality'], color=\"aquamarine\", marker='v')\n",
    "axes[1,0].scatter(x=swiss.Agriculture, y=swiss['Infant.Mortality'], color=\"tomato\", marker ='.')\n",
    "axes[1,1].scatter(x=swiss.Examination, y=swiss['Infant.Mortality'], color=\"fuchsia\", marker='>')\n",
    "\n",
    "\n",
    "# Set a title for each subplot\n",
    "axes[0,0].set_title(\"Fertility vs \"+x_axis+\" scatter plot\")\n",
    "axes[0,1].set_title(\"Education vs \"+x_axis+\" scatter plot\")\n",
    "axes[1,0].set_title(\"Agriculture vs \"+x_axis+\" scatter plot\")\n",
    "axes[1,1].set_title(\"Examination vs \"+x_axis+\" scatter plot\")\n",
    "\n",
    "# hide frames\n",
    "for position in axes[0,0].spines.keys():\n",
    "  axes[0,0].spines[position].set_visible(False)\n",
    "  axes[0,1].spines[position].set_visible(False)\n",
    "  axes[1,0].spines[position].set_visible(False)\n",
    "  axes[1,1].spines[position].set_visible(False)\n",
    "\n",
    "# add space between subplots\n",
    "fig.tight_layout(pad=3.0) #default padding is 1.08\n",
    "\n",
    "# add title to the whole figure\n",
    "fig.suptitle('Main title', size='x-large') # default title size is 'large'\n",
    "\n",
    "plt.show()"
   ]
  },
  {
   "cell_type": "code",
   "execution_count": 47,
   "metadata": {},
   "outputs": [
    {
     "data": {
      "text/plain": [
       "<Figure size 432x288 with 0 Axes>"
      ]
     },
     "metadata": {},
     "output_type": "display_data"
    },
    {
     "data": {
      "image/png": "[encoded data removed]",
      "text/plain": [
       "<Figure size 432x288 with 1 Axes>"
      ]
     },
     "metadata": {
      "needs_background": "light"
     },
     "output_type": "display_data"
    }
   ],
   "source": [
    "# MAKE A PLOT LINE\n",
    "\n",
    "plt.clf()\n",
    "\n",
    "fig, axes = plt.subplots()\n",
    "\n",
    "df = economics.copy()\n",
    "\n",
    "x_axis = 'date'\n",
    "y_axis = 'unemploy'\n",
    "\n",
    "axes.plot(df[x_axis], df[y_axis])\n",
    "\n",
    "# Set a title\n",
    "axes.set_title(y_axis+\" vs \"+x_axis+\" bar plot\")\n",
    "\n",
    "# set x and y axes labels\n",
    "axes.set_ylabel(y_axis)\n",
    "axes.set_xlabel(x_axis)\n",
    "\n",
    "# save the file. useful if you then want to integrate it in an html code and/or make a pdf out of it\n",
    "plt.savefig(\"fig.png\",bbox_inches='tight') # the figure will be save as a png file in your repository\n",
    "plt.show()"
   ]
  },
  {
   "cell_type": "code",
   "execution_count": 48,
   "metadata": {},
   "outputs": [
    {
     "name": "stdout",
     "output_type": "stream",
     "text": [
      "number of days:  14519\n"
     ]
    },
    {
     "data": {
      "text/plain": [
       "<Figure size 432x288 with 0 Axes>"
      ]
     },
     "metadata": {},
     "output_type": "display_data"
    },
    {
     "data": {
      "image/png": "[encoded data removed]",
      "text/plain": [
       "<Figure size 432x288 with 1 Axes>"
      ]
     },
     "metadata": {
      "needs_background": "light"
     },
     "output_type": "display_data"
    }
   ],
   "source": [
    "# MAKE A BARPLOT - the problem of the width\n",
    "\n",
    "plt.clf()\n",
    "\n",
    "# Lines are often reserved to represent ratios, and bars to represent amounts, so we could also have to use \n",
    "# a bar plot\n",
    "fig, axes = plt.subplots()\n",
    "\n",
    "# The default width in a bar plot is 0.8, it is expressed 'data' units. Here we have dates, so the unit is days.\n",
    "ndays = (economics['date'].max() -  economics['date'].min()).days\n",
    "print(\"number of days: \",ndays)\n",
    "\n",
    "# We have 14519 days, so the default width will be 0.8/14519 = 0.000055100213\n",
    "# That's 0.0055100213 % of the x axis' width. It's too narrow to be displayed well.\n",
    "# Very few bars, if any, are appearing\n",
    "\n",
    "axes.bar(economics['date'], economics['unemploy'])\n",
    "plt.show()"
   ]
  },
  {
   "cell_type": "code",
   "execution_count": 49,
   "metadata": {},
   "outputs": [
    {
     "data": {
      "text/plain": [
       "<Figure size 432x288 with 0 Axes>"
      ]
     },
     "metadata": {},
     "output_type": "display_data"
    },
    {
     "data": {
      "image/png": "[encoded data removed]",
      "text/plain": [
       "<Figure size 432x288 with 1 Axes>"
      ]
     },
     "metadata": {
      "needs_background": "light"
     },
     "output_type": "display_data"
    }
   ],
   "source": [
    "# MAKE A BARPLOT - the solution modifying the width\n",
    "plt.clf()\n",
    "\n",
    "fig, axes = plt.subplots()\n",
    "\n",
    "# Let's pass a width that will cover a full month (31 units of data)\n",
    "axes.bar(economics['date'], economics['unemploy'],width=31)\n",
    "\n",
    "plt.show()"
   ]
  },
  {
   "cell_type": "code",
   "execution_count": 50,
   "metadata": {},
   "outputs": [
    {
     "data": {
      "text/plain": [
       "<Figure size 432x288 with 0 Axes>"
      ]
     },
     "metadata": {},
     "output_type": "display_data"
    },
    {
     "data": {
      "image/png": "[encoded data removed]",
      "text/plain": [
       "<Figure size 432x288 with 1 Axes>"
      ]
     },
     "metadata": {
      "needs_background": "light"
     },
     "output_type": "display_data"
    }
   ],
   "source": [
    "# DATE AXIS: the problem\n",
    "\n",
    "plt.clf()\n",
    "\n",
    "# matplotlib sometimes doesn't display the date in the best way\n",
    "\n",
    "fig, axes = plt.subplots()\n",
    "\n",
    "df = economics.copy().tail(30)\n",
    "\n",
    "x_axis = 'date'\n",
    "y_axis = 'unemploy'\n",
    "\n",
    "axes.plot(df[x_axis], df[y_axis])\n",
    "\n",
    "# Set a title\n",
    "axes.set_title(y_axis+\" vs \"+x_axis+\" bar plot\")\n",
    "\n",
    "# set x and y axes labels\n",
    "axes.set_ylabel(y_axis)\n",
    "axes.set_xlabel(x_axis)\n",
    "plt.show()"
   ]
  },
  {
   "cell_type": "code",
   "execution_count": 51,
   "metadata": {},
   "outputs": [
    {
     "name": "stdout",
     "output_type": "stream",
     "text": [
      "date labels in matplotlib are numbers:  [12692. 12784. 12874. 12965. 13057. 13149. 13239. 13330. 13422. 13514.\n",
      " 13604.]\n"
     ]
    },
    {
     "name": "stderr",
     "output_type": "stream",
     "text": [
      "<ipython-input-51-10ca1cc641b4>:20: UserWarning: FixedFormatter should only be used together with FixedLocator\n",
      "  axes.set_xticklabels(ticklabels, rotation = 45, ha=\"center\")\n"
     ]
    },
    {
     "data": {
      "text/plain": [
       "<Figure size 432x288 with 0 Axes>"
      ]
     },
     "metadata": {},
     "output_type": "display_data"
    },
    {
     "data": {
      "image/png": "[encoded data removed]",
      "text/plain": [
       "<Figure size 432x288 with 1 Axes>"
      ]
     },
     "metadata": {
      "needs_background": "light"
     },
     "output_type": "display_data"
    }
   ],
   "source": [
    "# CUSTOMIZE A DATE AXIS: the solution\n",
    "\n",
    "plt.clf()\n",
    "\n",
    "fig, axes = plt.subplots()\n",
    "axes.plot(df[x_axis], df[y_axis])\n",
    "\n",
    "x_ticks_labels = axes.get_xticks() # extract the a axis ticks labels\n",
    "print(\"date labels in matplotlib are numbers: \",x_ticks_labels)\n",
    "# these labels are not dates because matplotlib turns dates into number in the background, so let's change\n",
    "# them back to dates:\n",
    "\n",
    "import matplotlib.dates as mdates \n",
    "x_ticks_labels_dates = mdates.num2date(x_ticks_labels)\n",
    "\n",
    "# Now we can format them. The default, with this many dates, shows only the year and month, as numbers. \n",
    "# Let's add the day (%d) and show the month as text (%b), just for the example\n",
    "ticklabels = [item.strftime('%b %d, %Y') for item in x_ticks_labels_dates]\n",
    "# And let's replace the labels on the plot\n",
    "axes.set_xticklabels(ticklabels, rotation = 45, ha=\"center\")\n",
    "plt.show()\n",
    "\n",
    "# Here's the full list of dates format: https://www.programiz.com/python-programming/datetime/strftime"
   ]
  },
  {
   "cell_type": "code",
   "execution_count": 52,
   "metadata": {},
   "outputs": [
    {
     "name": "stderr",
     "output_type": "stream",
     "text": [
      "<ipython-input-52-e10660a9cbf3>:20: UserWarning: FixedFormatter should only be used together with FixedLocator\n",
      "  axes.set_xticklabels(axes.get_xticklabels(), rotation=45, ha='right')\n"
     ]
    },
    {
     "data": {
      "text/plain": [
       "<Figure size 432x288 with 0 Axes>"
      ]
     },
     "metadata": {},
     "output_type": "display_data"
    },
    {
     "data": {
      "image/png": "[encoded data removed]",
      "text/plain": [
       "<Figure size 432x288 with 1 Axes>"
      ]
     },
     "metadata": {
      "needs_background": "light"
     },
     "output_type": "display_data"
    }
   ],
   "source": [
    "plt.clf()\n",
    "\n",
    "# HIGHLIGHT 1 DATA POINT\n",
    "fig, axes = plt.subplots() \n",
    "\n",
    "# First let's plot every animal's weight with a soft color\n",
    "axes.bar(x=mammals.index, height=mammals.body, color = 'steelblue')\n",
    "\n",
    "# Now let's plot over the previous plot only the datapoint we want to highlight with a bright color\n",
    "donkey = mammals[mammals.index=='Donkey']\n",
    "axes.bar(x=donkey.index, height=donkey.body, color = 'red', label=\"highest brain to body ratio\") #let's use a label\n",
    "axes.legend() # and let's add a legend to display the label\n",
    "\n",
    "# Set a title\n",
    "axes.set_title(\"Weight by Mammal (kg)\")\n",
    "\n",
    "# Rotate the ticks labels\n",
    "plt.draw() # The tick labels are not populated until the figure is drawn so the method axes.get_xticklabels() \n",
    "# would return only the positions of the ticks and not the mammals names if we didn't run first plt.draw!\n",
    "axes.set_xticklabels(axes.get_xticklabels(), rotation=45, ha='right')\n",
    "plt.show()"
   ]
  },
  {
   "cell_type": "code",
   "execution_count": null,
   "metadata": {},
   "outputs": [],
   "source": []
  },
  {
   "cell_type": "code",
   "execution_count": 162,
   "metadata": {},
   "outputs": [
    {
     "data": {
      "image/png": "[encoded data removed]",
      "text/plain": [
       "<Figure size 432x288 with 1 Axes>"
      ]
     },
     "metadata": {
      "needs_background": "light"
     },
     "output_type": "display_data"
    }
   ],
   "source": []
  },
  {
   "cell_type": "code",
   "execution_count": null,
   "metadata": {},
   "outputs": [],
   "source": []
  },
  {
   "cell_type": "code",
   "execution_count": 222,
   "metadata": {},
   "outputs": [
    {
     "name": "stdout",
     "output_type": "stream",
     "text": [
      "   Sepal.Length  Sepal.Width  Petal.Length  Petal.Width Species\n",
      "1           5.1          3.5           1.4          0.2  setosa\n",
      "2           4.9          3.0           1.4          0.2  setosa\n",
      "3           4.7          3.2           1.3          0.2  setosa\n",
      "4           4.6          3.1           1.5          0.2  setosa\n",
      "5           5.0          3.6           1.4          0.2  setosa\n"
     ]
    },
    {
     "data": {
      "image/png": "[encoded data removed]",
      "text/plain": [
       "<Figure size 862.35x432 with 1 Axes>"
      ]
     },
     "metadata": {
      "needs_background": "light"
     },
     "output_type": "display_data"
    }
   ],
   "source": []
  },
  {
   "cell_type": "markdown",
   "metadata": {},
   "source": [
    "#  <font color='blue'>Present the results of an AB test</font>"
   ]
  },
  {
   "cell_type": "code",
   "execution_count": null,
   "metadata": {},
   "outputs": [],
   "source": []
  },
  {
   "cell_type": "code",
   "execution_count": null,
   "metadata": {},
   "outputs": [],
   "source": []
  },
  {
   "cell_type": "code",
   "execution_count": 207,
   "metadata": {},
   "outputs": [
    {
     "data": {
      "image/png": "[encoded data removed]",
      "text/plain": [
       "<Figure size 432x288 with 1 Axes>"
      ]
     },
     "metadata": {
      "needs_background": "light"
     },
     "output_type": "display_data"
    }
   ],
   "source": [
    "# COMPARE MEANS AND DISPLAY A CONFIDENCE INTERVAL\n",
    "\n",
    "insect_sprays = data('InsectSprays')\n",
    "\n",
    "fig, axes = plt.subplots()\n",
    "\n",
    "for sp in insect_sprays.spray.unique():\n",
    "    insect_sprays_subset = insect_sprays[insect_sprays.spray==sp]\n",
    "    axes.bar(sp, insect_sprays_subset['count'].mean(), yerr=insect_sprays_subset['count'].std())\n",
    "\n",
    "plt.show()\n",
    "\n"
   ]
  },
  {
   "cell_type": "code",
   "execution_count": 206,
   "metadata": {},
   "outputs": [
    {
     "data": {
      "text/plain": [
       "Text(17.166666666666668, 2, 'Mean')"
      ]
     },
     "execution_count": 206,
     "metadata": {},
     "output_type": "execute_result"
    },
    {
     "data": {
      "image/png": "[encoded data removed]",
      "text/plain": [
       "<Figure size 432x288 with 1 Axes>"
      ]
     },
     "metadata": {
      "needs_background": "light"
     },
     "output_type": "display_data"
    }
   ],
   "source": [
    "# About error bars & statistical inference:\n",
    "# Error bars are usually 1 standard deviation long. \n",
    "# Best explanation ever of what standard deviation is: https://www.mathsisfun.com/data/standard-deviation.html\n",
    "\n",
    "# If the error bar is long, the individual values are not close to the mean, they are all over the place\n",
    "# so we consider the mean of our sample less likely to be identical to the mean of the real, entire, population. \n",
    "# It may be at this level just because we have too few observations and may be very different if we did more tests.\n",
    "\n",
    "# The error bars can sometimes be 1 standard error long instead of 1 standard deviation. \n",
    "# The standard error is calculated as follows: (standard deviation) / (square root of the number of observations)\n",
    "# So it can be much smaller than the standard deviation. The idea is that, even if the values are all over the place,\n",
    "# having a lot of observations means that we are more confident that the mean of our sample is representative of \n",
    "# the mean of the entire population, so we make smaller bars when we have many observations\n",
    "\n",
    "# Example of how the individual values are quite far from the mean for spray F:\n",
    "mean_of_count_for_spray_f = insect_sprays[insect_sprays.spray=='F']['count'].mean()\n",
    "hist_spray_f = insect_sprays[insect_sprays.spray=='F']['count'].hist()\n",
    "hist_spray_f.axvline(mean_of_count_for_spray_f, color='red', linestyle='dashed', linewidth=3)\n",
    "hist_spray_f.annotate(\"Mean\",(mean_of_count_for_spray_f+0.5,2),color='red')"
   ]
  },
  {
   "cell_type": "code",
   "execution_count": 227,
   "metadata": {},
   "outputs": [
    {
     "data": {
      "image/png": "[encoded data removed]",
      "text/plain": [
       "<Figure size 432x288 with 1 Axes>"
      ]
     },
     "metadata": {
      "needs_background": "light"
     },
     "output_type": "display_data"
    }
   ],
   "source": [
    "# COMPARE SEVERAL POPULATIONS DISTRIBUTION WITH BOXPLOTS\n",
    "fig, axes = plt.subplots()\n",
    "\n",
    "insect_sprays_b = insect_sprays[insect_sprays.spray=='B']\n",
    "insect_sprays_f = insect_sprays[insect_sprays.spray=='F']\n",
    "\n",
    "axes.boxplot([insect_sprays_b['count'], insect_sprays_f['count']])\n",
    "axes.set_xticklabels(['B','F'])\n",
    "\n",
    "plt.show()"
   ]
  },
  {
   "cell_type": "code",
   "execution_count": 224,
   "metadata": {},
   "outputs": [
    {
     "name": "stderr",
     "output_type": "stream",
     "text": [
      "No handles with labels found to put in legend.\n"
     ]
    },
    {
     "data": {
      "image/png": "[encoded data removed]",
      "text/plain": [
       "<Figure size 432x288 with 1 Axes>"
      ]
     },
     "metadata": {
      "needs_background": "light"
     },
     "output_type": "display_data"
    }
   ],
   "source": [
    "# PLOT HISTOGRAMS TO SHOW A POPULATION DISTRIBUTION\n",
    "\n",
    "fig, axes = plt.subplots()\n",
    "\n",
    "diamonds = data('diamonds')\n",
    "\n",
    "diamonds = diamonds[diamonds.color.isin(['E','J'])]\n",
    "\n",
    "for c in diamonds.color.unique():   \n",
    "    diamonds_subset = diamonds[diamonds.color == c]\n",
    "    axes.hist(diamonds_subset['price'], label=c, histtype='step', bins =100)\n",
    "    axes.set_xlabel('price')\n",
    "\n",
    "ax.legend()\n",
    "plt.show()"
   ]
  },
  {
   "cell_type": "code",
   "execution_count": 225,
   "metadata": {},
   "outputs": [
    {
     "name": "stderr",
     "output_type": "stream",
     "text": [
      "/home/julien.massardier/miniconda3/lib/python3.8/site-packages/seaborn/distributions.py:2619: FutureWarning: `distplot` is a deprecated function and will be removed in a future version. Please adapt your code to use either `displot` (a figure-level function with similar flexibility) or `kdeplot` (an axes-level function for kernel density plots).\n",
      "  warnings.warn(msg, FutureWarning)\n",
      "/home/julien.massardier/miniconda3/lib/python3.8/site-packages/seaborn/distributions.py:2619: FutureWarning: `distplot` is a deprecated function and will be removed in a future version. Please adapt your code to use either `displot` (a figure-level function with similar flexibility) or `kdeplot` (an axes-level function for kernel density plots).\n",
      "  warnings.warn(msg, FutureWarning)\n",
      "No handles with labels found to put in legend.\n"
     ]
    },
    {
     "data": {
      "image/png": "[encoded data removed]",
      "text/plain": [
       "<Figure size 432x288 with 1 Axes>"
      ]
     },
     "metadata": {
      "needs_background": "light"
     },
     "output_type": "display_data"
    }
   ],
   "source": [
    "# PLOT DENSITY CURVES WITH SEABORN TO SHOW A POPULATION DISTRIBUTION\n",
    "\n",
    "fig, axes = plt.subplots()\n",
    "\n",
    "for c in diamonds.color.unique():   \n",
    "    diamonds_subset = diamonds[diamonds.color == c]\n",
    "    sns.distplot(diamonds_subset['price'], label=c, hist=False, ax = axes)\n",
    "    axes.set_xlabel('price')\n",
    "\n",
    "ax.legend()\n",
    "\n",
    "plt.show()"
   ]
  },
  {
   "cell_type": "code",
   "execution_count": null,
   "metadata": {},
   "outputs": [],
   "source": []
  },
  {
   "cell_type": "code",
   "execution_count": null,
   "metadata": {},
   "outputs": [],
   "source": [
    "# QUESTIONS TO ASK AT THE END OF EACH PLOT\n",
    "\n",
    "# IS IT CRYSTAL CLEAR WHAT INFORMATION IS DISPLAYED OR DO I NEED MORE LABELS?\n",
    "# CAN I REMOVE ANYTHING WITHOUT LOSING IMPORTANT INFORMATION?\n",
    "# Eg. if the x axis is a date, no need for an x label, if the title says \"revenue\" and the y axis is formatted\n",
    "# with $, no need to say \"revenue in $\" in the title, and no need for a y label either etc.\n",
    "# IS THE INFORMATION I WANT TO SHOW EVIDENT? IS THERE ANYTHING DISTRACTING?\n",
    "# Eg. use soft colors for what's not important, bright colors for what you want to draw attention to"
   ]
  },
  {
   "cell_type": "code",
   "execution_count": 54,
   "metadata": {},
   "outputs": [],
   "source": [
    "# RULES OF PLOTTING\n",
    "\n",
    "# Keep a high data-ink ratio: avoid unnecessary:\n",
    "# Use of 3D effects, Background images, Shadow effects, Unnecessary borders, and Unnecessary grid lines. \n",
    "\n",
    "# Remove shadow effects\n",
    "# Remove chart junk\n",
    "# Remove the background\n",
    "# Remove redundant labels\n",
    "# Remove unnecessary borders and grid lines\n",
    "# Reduce colors\n",
    "# Remove the special effects of word bubbles\n",
    "# Remove bolding or using font to communicate information\n",
    "# Less is more effective: simpler titles and labels\n",
    "# Keep in mind the data density"
   ]
  },
  {
   "cell_type": "code",
   "execution_count": 55,
   "metadata": {},
   "outputs": [],
   "source": [
    "# RULES OF USING COLORS\n",
    "\n",
    "# 1. Use color only when needed to serve a particular communication goal.\n",
    "# 2. Use different colors only when they correspond to differences of meaning in the data.\n",
    "# 3. Use soft, natural colors to display most information and bright and/or dark colors to highlight \n",
    "# information that requires greater attention\n",
    "# 4. Non-data components of tables and graphs should be displayed just visibly enough to perform their role, \n",
    "# but no more so, for excessive salience could cause them to distract attention from the data.\n",
    "\n",
    "# If you like this topic, here's the reference: \n",
    "# http://www.perceptualedge.com/articles/visual_business_intelligence/rules_for_using_color.pdf"
   ]
  },
  {
   "cell_type": "code",
   "execution_count": 56,
   "metadata": {},
   "outputs": [],
   "source": [
    "# When plotting subplots that show the same data for 2 subsets: use plt.subplots(1,2, sharey = True) so\n",
    "# the y axes are aligned"
   ]
  },
  {
   "cell_type": "code",
   "execution_count": 57,
   "metadata": {},
   "outputs": [
    {
     "data": {
      "text/html": [
       "<div>\n",
       "<style scoped>\n",
       "    .dataframe tbody tr th:only-of-type {\n",
       "        vertical-align: middle;\n",
       "    }\n",
       "\n",
       "    .dataframe tbody tr th {\n",
       "        vertical-align: top;\n",
       "    }\n",
       "\n",
       "    .dataframe thead th {\n",
       "        text-align: right;\n",
       "    }\n",
       "</style>\n",
       "<table border=\"1\" class=\"dataframe\">\n",
       "  <thead>\n",
       "    <tr style=\"text-align: right;\">\n",
       "      <th></th>\n",
       "      <th>pce</th>\n",
       "      <th>pop</th>\n",
       "      <th>psavert</th>\n",
       "      <th>uempmed</th>\n",
       "      <th>unemploy</th>\n",
       "    </tr>\n",
       "    <tr>\n",
       "      <th>date</th>\n",
       "      <th></th>\n",
       "      <th></th>\n",
       "      <th></th>\n",
       "      <th></th>\n",
       "      <th></th>\n",
       "    </tr>\n",
       "  </thead>\n",
       "  <tbody>\n",
       "    <tr>\n",
       "      <th>2006-01-31</th>\n",
       "      <td>9079.2</td>\n",
       "      <td>298645</td>\n",
       "      <td>-0.3</td>\n",
       "      <td>8.9</td>\n",
       "      <td>7158</td>\n",
       "    </tr>\n",
       "    <tr>\n",
       "      <th>2006-02-28</th>\n",
       "      <td>9123.8</td>\n",
       "      <td>298849</td>\n",
       "      <td>-0.4</td>\n",
       "      <td>8.5</td>\n",
       "      <td>7009</td>\n",
       "    </tr>\n",
       "    <tr>\n",
       "      <th>2006-03-31</th>\n",
       "      <td>9175.2</td>\n",
       "      <td>299079</td>\n",
       "      <td>-1.0</td>\n",
       "      <td>8.5</td>\n",
       "      <td>7098</td>\n",
       "    </tr>\n",
       "    <tr>\n",
       "      <th>2006-04-30</th>\n",
       "      <td>9238.6</td>\n",
       "      <td>299310</td>\n",
       "      <td>-1.6</td>\n",
       "      <td>8.5</td>\n",
       "      <td>7006</td>\n",
       "    </tr>\n",
       "    <tr>\n",
       "      <th>2006-05-31</th>\n",
       "      <td>9270.5</td>\n",
       "      <td>299548</td>\n",
       "      <td>-1.5</td>\n",
       "      <td>7.6</td>\n",
       "      <td>6984</td>\n",
       "    </tr>\n",
       "    <tr>\n",
       "      <th>2006-06-30</th>\n",
       "      <td>9338.9</td>\n",
       "      <td>299801</td>\n",
       "      <td>-1.7</td>\n",
       "      <td>8.2</td>\n",
       "      <td>7228</td>\n",
       "    </tr>\n",
       "    <tr>\n",
       "      <th>2006-07-31</th>\n",
       "      <td>9352.7</td>\n",
       "      <td>300065</td>\n",
       "      <td>-1.5</td>\n",
       "      <td>8.4</td>\n",
       "      <td>7116</td>\n",
       "    </tr>\n",
       "    <tr>\n",
       "      <th>2006-08-31</th>\n",
       "      <td>9348.5</td>\n",
       "      <td>300326</td>\n",
       "      <td>-1.0</td>\n",
       "      <td>8.1</td>\n",
       "      <td>6912</td>\n",
       "    </tr>\n",
       "    <tr>\n",
       "      <th>2006-09-30</th>\n",
       "      <td>9376.0</td>\n",
       "      <td>300592</td>\n",
       "      <td>-0.8</td>\n",
       "      <td>8.0</td>\n",
       "      <td>6715</td>\n",
       "    </tr>\n",
       "    <tr>\n",
       "      <th>2006-10-31</th>\n",
       "      <td>9410.8</td>\n",
       "      <td>300836</td>\n",
       "      <td>-0.9</td>\n",
       "      <td>8.2</td>\n",
       "      <td>6826</td>\n",
       "    </tr>\n",
       "    <tr>\n",
       "      <th>2006-11-30</th>\n",
       "      <td>9478.5</td>\n",
       "      <td>301070</td>\n",
       "      <td>-1.1</td>\n",
       "      <td>7.3</td>\n",
       "      <td>6849</td>\n",
       "    </tr>\n",
       "    <tr>\n",
       "      <th>2006-12-31</th>\n",
       "      <td>9540.3</td>\n",
       "      <td>301296</td>\n",
       "      <td>-0.9</td>\n",
       "      <td>8.1</td>\n",
       "      <td>7017</td>\n",
       "    </tr>\n",
       "    <tr>\n",
       "      <th>2007-01-31</th>\n",
       "      <td>9610.6</td>\n",
       "      <td>301481</td>\n",
       "      <td>-1.0</td>\n",
       "      <td>8.1</td>\n",
       "      <td>6865</td>\n",
       "    </tr>\n",
       "    <tr>\n",
       "      <th>2007-02-28</th>\n",
       "      <td>9653.0</td>\n",
       "      <td>301684</td>\n",
       "      <td>-0.7</td>\n",
       "      <td>8.5</td>\n",
       "      <td>6724</td>\n",
       "    </tr>\n",
       "    <tr>\n",
       "      <th>2007-03-31</th>\n",
       "      <td>9705.0</td>\n",
       "      <td>301913</td>\n",
       "      <td>-1.3</td>\n",
       "      <td>8.7</td>\n",
       "      <td>6801</td>\n",
       "    </tr>\n",
       "  </tbody>\n",
       "</table>\n",
       "</div>"
      ],
      "text/plain": [
       "               pce     pop  psavert  uempmed  unemploy\n",
       "date                                                  \n",
       "2006-01-31  9079.2  298645     -0.3      8.9      7158\n",
       "2006-02-28  9123.8  298849     -0.4      8.5      7009\n",
       "2006-03-31  9175.2  299079     -1.0      8.5      7098\n",
       "2006-04-30  9238.6  299310     -1.6      8.5      7006\n",
       "2006-05-31  9270.5  299548     -1.5      7.6      6984\n",
       "2006-06-30  9338.9  299801     -1.7      8.2      7228\n",
       "2006-07-31  9352.7  300065     -1.5      8.4      7116\n",
       "2006-08-31  9348.5  300326     -1.0      8.1      6912\n",
       "2006-09-30  9376.0  300592     -0.8      8.0      6715\n",
       "2006-10-31  9410.8  300836     -0.9      8.2      6826\n",
       "2006-11-30  9478.5  301070     -1.1      7.3      6849\n",
       "2006-12-31  9540.3  301296     -0.9      8.1      7017\n",
       "2007-01-31  9610.6  301481     -1.0      8.1      6865\n",
       "2007-02-28  9653.0  301684     -0.7      8.5      6724\n",
       "2007-03-31  9705.0  301913     -1.3      8.7      6801"
      ]
     },
     "execution_count": 57,
     "metadata": {},
     "output_type": "execute_result"
    }
   ],
   "source": [
    "# set the date as an index\n",
    "economics.set_index('date', inplace=True)\n",
    "\n",
    "#and then you can easily filter a date range\n",
    "economics['2005-01-01':'2005-01-31']\n",
    "economics.query(\"date>='2006'\")"
   ]
  },
  {
   "cell_type": "code",
   "execution_count": 93,
   "metadata": {},
   "outputs": [
    {
     "name": "stderr",
     "output_type": "stream",
     "text": [
      "<ipython-input-93-38e97cd5d878>:22: UserWarning: FixedFormatter should only be used together with FixedLocator\n",
      "  axes.set_xticklabels(ticklabels, rotation=45, ha='right')\n"
     ]
    },
    {
     "data": {
      "image/png": "[encoded data removed]",
      "text/plain": [
       "<Figure size 432x288 with 2 Axes>"
      ]
     },
     "metadata": {},
     "output_type": "display_data"
    }
   ],
   "source": [
    "# Use 2 differents axes on the same plot\n",
    "\n",
    "economics_recent = economics.query(\"date>='2005'\")\n",
    "\n",
    "fig, axes = plt.subplots()\n",
    "\n",
    "# plot a metric on the left y axis\n",
    "axes.plot(economics_recent.index, economics_recent['pop'], color='lightpink')\n",
    "axes.tick_params('y', colors='lightpink')\n",
    "\n",
    "# create an additional y axis (twin x means it uses the x axis of our object 'axes')\n",
    "axes_twin = axes.twinx()\n",
    "\n",
    "# plot another metric on the additional y axis\n",
    "axes_twin.plot(economics_recent.index, economics_recent['unemploy'], color='cornflowerblue')\n",
    "axes_twin.tick_params('y', colors='cornflowerblue')\n",
    "\n",
    "# Let's clean up the date labels on the x axis\n",
    "x_ticks_labels = axes.get_xticks()\n",
    "x_ticks_labels_dates = mdates.num2date(x_ticks_labels)\n",
    "ticklabels = [item.strftime('%b %Y') for item in x_ticks_labels_dates]\n",
    "axes.set_xticklabels(ticklabels, rotation=45, ha='right')\n",
    "\n",
    "# Let format the y axes numbers\n",
    "import matplotlib.ticker as tkr\n",
    "axes.yaxis.set_major_formatter(tkr.StrMethodFormatter('{x:,.0f}'))\n",
    "axes_twin.yaxis.set_major_formatter(tkr.StrMethodFormatter('{x:,.0f}'))\n",
    "\n",
    "plt.show()"
   ]
  },
  {
   "cell_type": "code",
   "execution_count": 112,
   "metadata": {},
   "outputs": [
    {
     "data": {
      "image/png": "[encoded data removed]",
      "text/plain": [
       "<Figure size 432x288 with 1 Axes>"
      ]
     },
     "metadata": {
      "needs_background": "light"
     },
     "output_type": "display_data"
    }
   ],
   "source": [
    "# STACKED BAR PLOT\n",
    "\n",
    "fig, axes = plt.subplots()\n",
    "\n",
    "worldphones = data('WorldPhones')\n",
    "\n",
    "bottom = 0 # bottom is where the bar starts being drawn\n",
    "for col in worldphones.columns:\n",
    "    axes.bar(worldphones.index, worldphones[col], bottom = bottom, label=col)\n",
    "    bottom += worldphones[col] #each time that we draw a bar, we raise the bottom by the height of the bar previously\n",
    "    # drawned so that in the end they appear stacked\n",
    "\n",
    "axes.legend(bbox_to_anchor=(1.1, 1.05))\n",
    "\n",
    "plt.show()"
   ]
  },
  {
   "cell_type": "code",
   "execution_count": null,
   "metadata": {},
   "outputs": [],
   "source": []
  },
  {
   "cell_type": "code",
   "execution_count": 171,
   "metadata": {},
   "outputs": [
    {
     "name": "stdout",
     "output_type": "stream",
     "text": [
      ">>>> AirPassengers 144\n",
      ">>>> BJsales 150\n",
      ">>>> BOD 6\n",
      ">>>> Formaldehyde 6\n",
      ">>>> HairEyeColor 32\n",
      ">>>> InsectSprays 72\n",
      ">>>> JohnsonJohnson 84\n",
      ">>>> LakeHuron 98\n",
      ">>>> LifeCycleSavings 50\n",
      ">>>> Nile 100\n",
      ">>>> OrchardSprays 64\n",
      ">>>> PlantGrowth 30\n",
      ">>>> Puromycin 23\n",
      ">>>> Titanic 32\n",
      ">>>> ToothGrowth 60\n",
      ">>>> UCBAdmissions 24\n",
      ">>>> UKDriverDeaths 192\n",
      ">>>> UKgas 108\n",
      ">>>> USAccDeaths 72\n",
      ">>>> USArrests 50\n",
      ">>>> USJudgeRatings 43\n",
      ">>>> USPersonalExpenditure 5\n",
      ">>>> VADeaths 5\n",
      ">>>> WWWusage 100\n",
      ">>>> WorldPhones 7\n",
      ">>>> airmiles 24\n",
      ">>>> airquality 153\n",
      ">>>> anscombe 11\n",
      ">>>> attenu 182\n",
      ">>>> attitude 30\n",
      ">>>> austres 89\n",
      ">>>> cars 50\n",
      ">>>> chickwts 71\n",
      ">>>> co2 468\n",
      ">>>> crimtab 42\n",
      ">>>> discoveries 100\n",
      ">>>> esoph 88\n",
      ">>>> euro 11\n",
      ">>>> faithful 272\n",
      ">>>> freeny 39\n",
      ">>>> infert 248\n",
      ">>>> iris 150\n",
      ">>>> islands 48\n",
      ">>>> lh 48\n",
      ">>>> longley 16\n",
      ">>>> lynx 114\n",
      ">>>> morley 100\n",
      ">>>> mtcars 32\n",
      ">>>> nhtemp 60\n",
      ">>>> nottem 240\n",
      ">>>> npk 24\n",
      ">>>> occupationalStatus 8\n",
      ">>>> precip 70\n",
      ">>>> presidents 120\n",
      ">>>> pressure 19\n",
      ">>>> quakes 1000\n",
      ">>>> randu 400\n",
      ">>>> rivers 141\n",
      ">>>> rock 48\n",
      ">>>> sleep 20\n",
      ">>>> stackloss 21\n",
      ">>>> sunspot.month 3177\n",
      ">>>> sunspot.year 289\n",
      ">>>> sunspots 2820\n",
      ">>>> swiss 47\n",
      ">>>> treering 7980\n",
      ">>>> trees 31\n",
      ">>>> uspop 19\n",
      ">>>> volcano 87\n",
      ">>>> warpbreaks 54\n",
      ">>>> women 15\n",
      ">>>> acme 60\n",
      ">>>> aids 295\n",
      ">>>> aircondit 12\n",
      ">>>> aircondit7 24\n",
      ">>>> amis 8437\n",
      ">>>> aml 23\n",
      ">>>> bigcity 49\n",
      ">>>> brambles 823\n",
      ">>>> breslow 10\n",
      ">>>> calcium 27\n",
      ">>>> cane 180\n",
      ">>>> capability 75\n",
      ">>>> catsM 97\n",
      ">>>> cav 138\n",
      ">>>> cd4 20\n",
      ">>>> channing 462\n",
      ">>>> city 10\n",
      ">>>> claridge 37\n",
      ">>>> cloth 32\n",
      ">>>> co.transfer 7\n",
      ">>>> coal 191\n",
      ">>>> darwin 15\n",
      ">>>> dogs 7\n",
      ">>>> downs.bc 30\n",
      ">>>> ducks 11\n",
      ">>>> fir 50\n",
      ">>>> frets 25\n",
      ">>>> grav 26\n",
      ">>>> gravity 81\n",
      ">>>> hirose 44\n",
      ">>>> islay 18\n",
      ">>>> manaus 1080\n",
      ">>>> melanoma 37\n",
      ">>>> motor 94\n",
      ">>>> neuro 469\n",
      ">>>> nitrofen 50\n",
      ">>>> nodal 53\n",
      ">>>> nuclear 32\n",
      ">>>> paulsen 346\n",
      ">>>> poisons 48\n",
      ">>>> polar 50\n",
      ">>>> remission 27\n",
      ">>>> salinity 28\n",
      ">>>> survival 14\n",
      ">>>> tau 60\n",
      ">>>> tuna 64\n",
      ">>>> urine 79\n",
      ">>>> wool 309\n",
      ">>>> aids 295\n",
      ">>>> alloauto 101\n",
      ">>>> allograft 34\n",
      ">>>> azt 45\n",
      ">>>> baboon 152\n",
      ">>>> bcdeter 95\n",
      ">>>> bfeed 927\n",
      ">>>> bmt 137\n",
      ">>>> bnct 30\n",
      ">>>> btrial 45\n",
      ">>>> burn 154\n",
      ">>>> channing 462\n",
      ">>>> drug6mp 21\n",
      ">>>> drughiv 34\n",
      ">>>> hodg 43\n",
      ">>>> kidney 76\n",
      ">>>> kidrecurr 38\n",
      ">>>> kidtran 863\n",
      ">>>> larynx 90\n",
      ">>>> lung 228\n",
      ">>>> pneumon 3470\n",
      ">>>> psych 26\n",
      ">>>> rats 150\n",
      ">>>> std 877\n",
      ">>>> stddiag 25\n",
      ">>>> tongue 80\n",
      ">>>> twins 24\n",
      ">>>> Animals2 65\n",
      ">>>> CrohnD 117\n",
      ">>>> NOxEmissions 8088\n",
      ">>>> SiegelsEx 9\n",
      ">>>> aircraft 23\n",
      ">>>> airmay 31\n",
      ">>>> alcohol 44\n",
      ">>>> ambientNOxCH 366\n",
      ">>>> bushfire 38\n",
      ">>>> carrots 24\n",
      ">>>> cloud 19\n",
      ">>>> coleman 20\n",
      ">>>> condroz 428\n",
      ">>>> cushny 10\n",
      ">>>> delivery 25\n",
      ">>>> education 50\n",
      ">>>> epilepsy 236\n",
      ">>>> exAM 12\n",
      ">>>> foodstamp 150\n",
      ">>>> hbk 75\n",
      ">>>> heart 172\n",
      ">>>> kootenay 13\n",
      ">>>> lactic 20\n",
      ">>>> milk 86\n",
      ">>>> pension 18\n",
      ">>>> phosphor 18\n",
      ">>>> pilot 20\n",
      ">>>> possumDiv 151\n",
      ">>>> pulpfiber 62\n",
      ">>>> radarImage 1573\n",
      ">>>> salinity 28\n",
      ">>>> starsCYG 47\n",
      ">>>> telef 24\n",
      ">>>> toxicity 38\n",
      ">>>> vaso 39\n",
      ">>>> wagnerGrowth 63\n",
      ">>>> wood 20\n",
      ">>>> AMSsurvey 24\n",
      ">>>> Adler 97\n",
      ">>>> Angell 43\n",
      ">>>> Anscombe 51\n",
      ">>>> Baumann 66\n",
      ">>>> Bfox 30\n",
      ">>>> Blackmoor 945\n",
      ">>>> Burt 27\n",
      ">>>> CanPop 16\n",
      ">>>> Chile 2700\n",
      ">>>> Chirot 32\n",
      ">>>> Cowles 1421\n",
      ">>>> Davis 200\n",
      ">>>> DavisThin 191\n",
      ">>>> Depredations 434\n",
      ">>>> Duncan 45\n",
      ">>>> Ericksen 66\n",
      ">>>> Florida 67\n",
      ">>>> Freedman 110\n",
      ">>>> Friendly 30\n",
      ">>>> Ginzberg 82\n",
      ">>>> Greene 384\n",
      ">>>> Guyer 20\n",
      ">>>> Hartnagel 38\n",
      ">>>> Highway1 39\n",
      ">>>> Leinhardt 105\n",
      ">>>> Mandel 8\n",
      ">>>> Migration 90\n",
      ">>>> Moore 45\n",
      ">>>> Mroz 753\n",
      ">>>> OBrienKaiser 16\n",
      ">>>> Ornstein 248\n",
      ">>>> Pottery 26\n",
      ">>>> Prestige 102\n",
      ">>>> Quartet 11\n",
      ">>>> Robey 50\n",
      ">>>> SLID 7425\n",
      ">>>> Sahlins 20\n",
      ">>>> Salaries 397\n",
      ">>>> Soils 48\n",
      ">>>> States 51\n",
      ">>>> Transact 261\n",
      ">>>> UN 207\n",
      ">>>> USPop 22\n",
      ">>>> Vocab 21638\n",
      ">>>> WeightLoss 34\n",
      ">>>> Womenlf 263\n",
      ">>>> Wool 27\n",
      ">>>> agriculture 12\n",
      ">>>> animals 20\n",
      ">>>> chorSub 61\n",
      ">>>> flower 18\n",
      ">>>> plantTraits 136\n",
      ">>>> pluton 45\n",
      ">>>> ruspini 75\n",
      ">>>> votes.repub 50\n",
      ">>>> xclara 3000\n",
      ">>>> affairs 601\n",
      ">>>> azcabgptca 1959\n",
      ">>>> azdrg112 1798\n",
      ">>>> azpro 3589\n",
      ">>>> azprocedure 3589\n",
      ">>>> badhealth 1127\n",
      ">>>> fasttrakg 15\n",
      ">>>> fishing 147\n",
      ">>>> lbw 189\n",
      ">>>> lbwgrp 6\n",
      ">>>> loomis 410\n",
      ">>>> mdvis 2227\n",
      ">>>> medpar 1495\n",
      ">>>> nuts 52\n",
      ">>>> rwm 27326\n",
      ">>>> rwm1984 3874\n",
      ">>>> rwm5yr 19609\n",
      ">>>> ships 40\n",
      ">>>> smoking 26\n",
      ">>>> titanic 1316\n",
      ">>>> titanicgrp 12\n",
      ">>>> Accident 40\n",
      ">>>> Airline 90\n",
      ">>>> Airq 30\n",
      ">>>> Benefits 4877\n",
      ">>>> Bids 126\n",
      ">>>> BudgetFood 23972\n",
      ">>>> BudgetItaly 1729\n",
      ">>>> BudgetUK 1519\n",
      ">>>> Bwages 1472\n",
      ">>>> CPSch3 11130\n",
      ">>>> CRANpackages 29\n",
      ">>>> Capm 516\n",
      ">>>> Car 4654\n",
      ">>>> Caschool 420\n",
      ">>>> Catsup 2798\n",
      ">>>> Cigar 1380\n",
      ">>>> Cigarette 528\n",
      ">>>> Clothing 400\n",
      ">>>> Computers 6259\n",
      ">>>> Cracker 3292\n",
      ">>>> Crime 630\n",
      ">>>> DM 778\n",
      ">>>> Diamond 308\n",
      ">>>> Doctor 485\n",
      ">>>> DoctorAUS 5190\n",
      ">>>> DoctorContacts 20186\n",
      ">>>> Earnings 4266\n",
      ">>>> Electricity 158\n",
      ">>>> Fair 601\n",
      ">>>> Fatality 336\n",
      ">>>> Fishing 1182\n",
      ">>>> Forward 276\n",
      ">>>> FriendFoe 227\n",
      ">>>> Garch 1867\n",
      ">>>> Gasoline 342\n",
      ">>>> Griliches 758\n",
      ">>>> Grunfeld 200\n",
      ">>>> HC 250\n",
      ">>>> HI 22272\n",
      ">>>> Hdma 2381\n",
      ">>>> Heating 900\n",
      ">>>> Hedonic 506\n",
      ">>>> Housing 546\n",
      ">>>> Icecream 30\n",
      ">>>> Journals 180\n",
      ">>>> Kakadu 1827\n",
      ">>>> Ketchup 4956\n",
      ">>>> Klein 22\n",
      ">>>> LaborSupply 5320\n",
      ">>>> Labour 569\n",
      ">>>> MCAS 220\n",
      ">>>> Males 4360\n",
      ">>>> Mathlevel 609\n",
      ">>>> MedExp 5574\n",
      ">>>> Metal 27\n",
      ">>>> Mode 453\n",
      ">>>> ModeChoice 840\n",
      ">>>> Mofa 50\n",
      ">>>> Mroz 753\n",
      ">>>> MunExp 2385\n",
      ">>>> NaturalPark 312\n",
      ">>>> Nerlove 159\n",
      ">>>> OFP 4406\n",
      ">>>> Oil 53\n",
      ">>>> PSID 4856\n",
      ">>>> Participation 872\n",
      ">>>> PatentsHGH 1730\n",
      ">>>> PatentsRD 1629\n",
      ">>>> Pound 778\n",
      ">>>> Produc 816\n",
      ">>>> RetSchool 5225\n",
      ">>>> SP500 2783\n",
      ">>>> Schooling 3010\n",
      ">>>> Somerville 659\n",
      ">>>> Star 5748\n",
      ">>>> Strike 62\n",
      ">>>> StrikeDur 566\n",
      ">>>> StrikeNb 108\n",
      ">>>> SumHes 3250\n",
      ">>>> Tobacco 2724\n",
      ">>>> Train 2929\n",
      ">>>> TranspEq 25\n",
      ">>>> Treatment 2675\n",
      ">>>> Tuna 13705\n",
      ">>>> USFinanceIndustry 84\n",
      ">>>> USclassifiedDocuments 29\n",
      ">>>> USstateAbbreviations 76\n",
      ">>>> UStaxWords 6\n",
      ">>>> UnempDur 3343\n",
      ">>>> Unemployment 452\n",
      ">>>> University 62\n",
      ">>>> VietNamH 5999\n",
      ">>>> VietNamI 27765\n",
      ">>>> Wages 4165\n",
      ">>>> Wages1 3294\n",
      ">>>> Workinghours 3382\n",
      ">>>> Yen 778\n",
      ">>>> Yogurt 2412\n",
      ">>>> bankingCrises 211\n",
      ">>>> incomeInequality 66\n",
      ">>>> nonEnglishNames 17\n",
      ">>>> politicalKnowledge 4\n",
      ">>>> PD 825\n",
      ">>>> aldh2 263\n",
      ">>>> apoeapoc 353\n",
      ">>>> cf 186\n",
      ">>>> crohn 387\n",
      ">>>> fa 127\n",
      ">>>> fsnps 432\n",
      ">>>> hla 271\n"
     ]
    },
    {
     "name": "stderr",
     "output_type": "stream",
     "text": [
      "/home/julien.massardier/miniconda3/lib/python3.8/site-packages/IPython/core/interactiveshell.py:3418: DtypeWarning: Columns (1) have mixed types.Specify dtype option on import or set low_memory=False.\n",
      "  exec(code_obj, self.user_global_ns, self.user_ns)\n"
     ]
    },
    {
     "name": "stdout",
     "output_type": "stream",
     "text": [
      ">>>> hr1420 147849\n",
      ">>>> l51 51\n",
      ">>>> lukas 85\n",
      ">>>> mao 340\n",
      ">>>> mfblong 3000\n",
      ">>>> mhtdata 159312\n",
      ">>>> nep499 499\n",
      ">>>> diamonds 53940\n",
      ">>>> economics 478\n",
      ">>>> midwest 437\n",
      ">>>> movies 58788\n",
      ">>>> mpg 234\n",
      ">>>> msleep 83\n",
      ">>>> presidential 10\n",
      ">>>> seals 1155\n",
      ">>>> Arbuthnot 82\n",
      ">>>> Bowley 45\n",
      ">>>> Cavendish 29\n",
      ">>>> ChestSizes 16\n",
      ">>>> CushnyPeebles 11\n",
      ">>>> CushnyPeeblesN 11\n",
      ">>>> Dactyl 60\n",
      ">>>> DrinksWages 70\n",
      ">>>> Fingerprints 36\n",
      ">>>> Galton 928\n",
      ">>>> GaltonFamilies 934\n",
      ">>>> Guerry 86\n",
      ">>>> Jevons 50\n",
      ">>>> Langren.all 61\n",
      ">>>> Langren1644 12\n",
      ">>>> Macdonell 924\n",
      ">>>> MacdonellDF 3000\n",
      ">>>> Michelson 100\n",
      ">>>> MichelsonSets 20\n",
      ">>>> Minard.cities 20\n",
      ">>>> Minard.temp 9\n",
      ">>>> Minard.troops 51\n",
      ">>>> Nightingale 24\n",
      ">>>> OldMaps 468\n",
      ">>>> PearsonLee 746\n",
      ">>>> PolioTrials 8\n",
      ">>>> Prostitutes 516\n",
      ">>>> Pyx 72\n",
      ">>>> Quarrels 779\n",
      ">>>> Snow.deaths 578\n",
      ">>>> Snow.polygons 54\n",
      ">>>> Snow.pumps 13\n",
      ">>>> Snow.streets 1241\n",
      ">>>> Wheat 53\n",
      ">>>> Wheat.monarchs 12\n",
      ">>>> Yeast 36\n",
      ">>>> YeastD.mat 20\n",
      ">>>> ZeaMays 15\n",
      ">>>> barley 90\n",
      ">>>> environmental 111\n",
      ">>>> ethanol 88\n",
      ">>>> melanoma 37\n",
      ">>>> singer 235\n",
      ">>>> Aids2 2843\n",
      ">>>> Animals 28\n",
      ">>>> Boston 506\n",
      ">>>> Cars93 93\n",
      ">>>> Cushings 27\n",
      ">>>> DDT 15\n",
      ">>>> GAGurine 314\n",
      ">>>> Insurance 64\n",
      ">>>> Melanoma 205\n",
      ">>>> OME 1097\n",
      ">>>> Pima.te 332\n",
      ">>>> Pima.tr 200\n",
      ">>>> Pima.tr2 300\n",
      ">>>> Rabbit 60\n",
      ">>>> Rubber 30\n",
      ">>>> SP500 2783\n",
      ">>>> Sitka 395\n",
      ">>>> Sitka89 632\n",
      ">>>> Skye 23\n",
      ">>>> Traffic 184\n",
      ">>>> UScereal 65\n",
      ">>>> UScrime 47\n",
      ">>>> VA 137\n",
      ">>>> abbey 31\n",
      ">>>> accdeaths 72\n",
      ">>>> anorexia 72\n",
      ">>>> bacteria 220\n",
      ">>>> beav1 114\n",
      ">>>> beav2 100\n",
      ">>>> biopsy 699\n",
      ">>>> birthwt 189\n",
      ">>>> cabbages 60\n",
      ">>>> caith 4\n",
      ">>>> cats 144\n",
      ">>>> cement 13\n",
      ">>>> chem 24\n",
      ">>>> coop 252\n",
      ">>>> cpus 209\n",
      ">>>> crabs 200\n",
      ">>>> deaths 72\n",
      ">>>> drivers 192\n",
      ">>>> eagles 8\n",
      ">>>> epil 236\n",
      ">>>> farms 20\n",
      ">>>> fgl 214\n",
      ">>>> forbes 17\n",
      ">>>> galaxies 82\n",
      ">>>> gehan 42\n",
      ">>>> genotype 61\n",
      ">>>> geyser 299\n",
      ">>>> gilgais 365\n",
      ">>>> hills 35\n",
      ">>>> housing 1448\n",
      ">>>> immer 30\n",
      ">>>> leuk 33\n",
      ">>>> mammals 62\n",
      ">>>> mcycle 133\n",
      ">>>> menarche 25\n",
      ">>>> michelson 100\n",
      ">>>> minn38 168\n",
      ">>>> motors 40\n",
      ">>>> muscle 60\n",
      ">>>> newcomb 66\n",
      ">>>> nlschools 2287\n",
      ">>>> npk 24\n",
      ">>>> npr1 104\n",
      ">>>> oats 72\n",
      ">>>> painters 54\n",
      ">>>> petrol 32\n",
      ">>>> quine 146\n",
      ">>>> road 26\n",
      ">>>> rotifer 20\n",
      ">>>> ships 40\n",
      ">>>> shrimp 18\n",
      ">>>> shuttle 256\n",
      ">>>> snails 96\n",
      ">>>> steam 14\n",
      ">>>> stormer 23\n",
      ">>>> survey 237\n",
      ">>>> synth.te 1000\n",
      ">>>> synth.tr 250\n",
      ">>>> topo 52\n",
      ">>>> waders 15\n",
      ">>>> whiteside 56\n",
      ">>>> wtloss 52\n",
      ">>>> Cigar 1380\n",
      ">>>> Crime 630\n",
      ">>>> EmplUK 1031\n",
      ">>>> Gasoline 342\n",
      ">>>> Grunfeld 200\n",
      ">>>> Hedonic 506\n",
      ">>>> LaborSupply 5320\n",
      ">>>> Males 4360\n",
      ">>>> Produc 816\n",
      ">>>> Snmesp 5904\n",
      ">>>> SumHes 3250\n",
      ">>>> Wages 4165\n",
      ">>>> baseball 21699\n",
      ">>>> AustralianElectionPolling 239\n",
      ">>>> AustralianElections 24\n",
      ">>>> EfronMorris 18\n",
      ">>>> RockTheVote 85\n",
      ">>>> UKHouseOfCommons 521\n",
      ">>>> absentee 22\n",
      ">>>> admit 106\n",
      ">>>> bioChemists 915\n",
      ">>>> ca2006 53\n",
      ">>>> iraqVote 100\n",
      ">>>> politicalInformation 1807\n",
      ">>>> presidentialElections 1047\n",
      ">>>> prussian 280\n",
      ">>>> unionDensity 20\n",
      ">>>> vote92 909\n",
      ">>>> french_fries 696\n",
      ">>>> smiths 2\n",
      ">>>> tips 244\n",
      ">>>> car.test.frame 60\n",
      ">>>> car90 111\n",
      ">>>> cu.summary 117\n",
      ">>>> kyphosis 81\n",
      ">>>> solder 720\n",
      ">>>> stagec 146\n",
      ">>>> PublicSchools 51\n",
      ">>>> Bollen 75\n",
      ">>>> CNES 1529\n",
      ">>>> Klein 22\n",
      ">>>> Kmenta 20\n",
      ">>>> Tests 32\n",
      ">>>> bladder 340\n",
      ">>>> cancer 228\n",
      ">>>> cgd 203\n",
      ">>>> colon 1858\n",
      ">>>> flchain 7874\n",
      ">>>> heart 172\n",
      ">>>> kidney 76\n",
      ">>>> leukemia 23\n",
      ">>>> logan 838\n",
      ">>>> lung 228\n",
      ">>>> mgus 241\n",
      ">>>> nwtco 4028\n",
      ">>>> ovarian 26\n",
      ">>>> pbc 418\n",
      ">>>> rats 150\n",
      ">>>> stanford2 184\n",
      ">>>> tobin 20\n",
      ">>>> veteran 137\n",
      ">>>> Arthritis 84\n",
      ">>>> Baseball 322\n",
      ">>>> BrokenMarriage 20\n",
      ">>>> Bundesliga 14018\n",
      ">>>> Bundestag2005 16\n",
      ">>>> Butterfly 24\n",
      ">>>> CoalMiners 36\n",
      ">>>> DanishWelfare 180\n",
      ">>>> Employment 24\n",
      ">>>> Federalist 7\n",
      ">>>> Hitters 154\n",
      ">>>> HorseKicks 5\n",
      ">>>> Hospital 3\n",
      ">>>> JobSatisfaction 8\n",
      ">>>> JointSports 40\n",
      ">>>> Lifeboats 18\n",
      ">>>> NonResponse 12\n",
      ">>>> OvaryCancer 16\n",
      ">>>> PreSex 16\n",
      ">>>> Punishment 36\n",
      ">>>> RepVict 8\n",
      ">>>> Saxony 13\n",
      ">>>> SexualFun 4\n",
      ">>>> SpaceShuttle 24\n",
      ">>>> Suicide 306\n",
      ">>>> Trucks 24\n",
      ">>>> UKSoccer 5\n",
      ">>>> VisualAcuity 32\n",
      ">>>> VonBort 280\n",
      ">>>> WeldonDice 11\n",
      ">>>> WomenQueue 11\n",
      ">>>> MatchIt.url 2\n",
      ">>>> PErisk 62\n",
      ">>>> SupremeCourt 43\n",
      ">>>> Weimar 10\n",
      ">>>> Zelig.url 49\n",
      ">>>> approval 65\n",
      ">>>> bivariate 78\n",
      ">>>> coalition 314\n",
      ">>>> coalition2 314\n",
      ">>>> eidat 10\n",
      ">>>> free1 450\n",
      ">>>> free2 450\n",
      ">>>> friendship 0\n",
      ">>>> grunfeld 20\n",
      ">>>> hoff 36\n",
      ">>>> homerun 314\n",
      ">>>> immi1 2485\n",
      ">>>> immi2 2485\n",
      ">>>> immi3 2485\n",
      ">>>> immi4 2485\n",
      ">>>> immi5 2485\n",
      ">>>> immigration 2485\n",
      ">>>> klein 21\n",
      ">>>> kmenta 20\n",
      ">>>> macro 350\n",
      ">>>> mexico 1359\n",
      ">>>> mid 3126\n",
      ">>>> newpainters 54\n",
      ">>>> sanction 78\n",
      ">>>> sna.ex 0\n",
      ">>>> swiss 47\n",
      ">>>> tobin 20\n",
      ">>>> turnout 2000\n",
      ">>>> voteincome 1500\n",
      ">>>> BCG 13\n",
      ">>>> BtheB 100\n",
      ">>>> CYGOB1 47\n",
      ">>>> Forbes2000 2000\n",
      ">>>> GHQ 22\n",
      ">>>> Lanza 198\n",
      ">>>> agefat 25\n",
      ">>>> aspirin 7\n",
      ">>>> birthdeathrates 69\n",
      ">>>> bladdercancer 31\n",
      ">>>> clouds 24\n",
      ">>>> epilepsy 236\n",
      ">>>> foster 61\n",
      ">>>> heptathlon 25\n",
      ">>>> mastectomy 44\n",
      ">>>> meteo 11\n",
      ">>>> orallesions 8\n",
      ">>>> phosphate 33\n",
      ">>>> pistonrings 4\n",
      ">>>> planets 101\n",
      ">>>> plasma 32\n",
      ">>>> polyps 20\n",
      ">>>> polyps3 22\n",
      ">>>> pottery 45\n",
      ">>>> rearrests 2\n",
      ">>>> respiratory 444\n",
      ">>>> roomwidth 113\n",
      ">>>> schizophrenia 251\n",
      ">>>> schizophrenia2 220\n",
      ">>>> schooldays 154\n",
      ">>>> skulls 150\n",
      ">>>> smoking 26\n",
      ">>>> students 35\n",
      ">>>> suicides 2\n",
      ">>>> toothpaste 9\n",
      ">>>> voting 25\n",
      ">>>> water 61\n",
      ">>>> watervoles 14\n",
      ">>>> waves 18\n",
      ">>>> weightgain 40\n",
      ">>>> womensrole 42\n",
      ">>>> Bechtoldt 17\n",
      ">>>> Bechtoldt.1 17\n",
      ">>>> Bechtoldt.2 17\n",
      ">>>> Dwyer 8\n",
      ">>>> Gleser 12\n",
      ">>>> Gorsuch 10\n",
      ">>>> Harman.5 12\n",
      ">>>> Harman.8 8\n",
      ">>>> Harman.political 8\n",
      ">>>> Holzinger 14\n",
      ">>>> Holzinger.9 9\n",
      ">>>> Reise 16\n",
      ">>>> Schmid 12\n",
      ">>>> Thurstone 9\n",
      ">>>> Thurstone.33 9\n",
      ">>>> Tucker 9\n",
      ">>>> ability 1525\n",
      ">>>> affect 330\n",
      ">>>> bfi 2800\n",
      ">>>> bfi.dictionary 28\n",
      ">>>> blot 150\n",
      ">>>> burt 11\n",
      ">>>> cities 11\n",
      ">>>> cubits 9\n",
      ">>>> cushny 10\n",
      ">>>> epi 3570\n",
      ">>>> epi.bfi 231\n",
      ">>>> epi.dictionary 57\n",
      ">>>> galton 928\n",
      ">>>> heights 348\n",
      ">>>> income 44\n",
      ">>>> iqitems 1525\n",
      ">>>> msq 3896\n",
      ">>>> neo 30\n",
      ">>>> peas 700\n",
      ">>>> sat.act 700\n",
      ">>>> withinBetween 16\n",
      ">>>> Bosco 5\n",
      ">>>> CobarOre 38\n",
      ">>>> Mammals 107\n",
      ">>>> barro 161\n",
      ">>>> engel 235\n",
      ">>>> uis 575\n",
      ">>>> dietox 861\n",
      ">>>> koch 288\n",
      ">>>> ohio 2148\n",
      ">>>> respdis 111\n",
      ">>>> respiratory 444\n",
      ">>>> seizure 59\n",
      ">>>> sitka89 632\n",
      ">>>> spruce 1027\n",
      ">>>> liver 606\n",
      ">>>> portpirie 65\n",
      ">>>> rain 17531\n",
      ">>>> summer 578\n",
      ">>>> wavesurge 2894\n",
      ">>>> winter 532\n",
      ">>>> arthritis 906\n",
      ">>>> housing 1448\n",
      ">>>> bmw 6146\n",
      ">>>> danish 2167\n",
      ">>>> nidd.annual 35\n",
      ">>>> nidd.thresh 154\n",
      ">>>> siemens 6146\n",
      ">>>> sp.raw 8415\n",
      ">>>> spto87 6985\n",
      ">>>> Dyestuff 30\n",
      ">>>> Dyestuff2 30\n",
      ">>>> InstEval 73421\n",
      ">>>> Pastes 60\n",
      ">>>> Penicillin 144\n",
      ">>>> VerbAgg 7584\n",
      ">>>> cake 270\n",
      ">>>> cbpp 56\n",
      ">>>> grouseticks 403\n",
      ">>>> sleepstudy 180\n"
     ]
    }
   ],
   "source": [
    "for x in data().dataset_id:\n",
    "    #f len(data(x).columns)>3:\n",
    "    print(\">>>>\",x,data(x).shape[0])\n",
    "    #rint(data(x).head(1))"
   ]
  },
  {
   "cell_type": "code",
   "execution_count": null,
   "metadata": {},
   "outputs": [],
   "source": []
  },
  {
   "cell_type": "code",
   "execution_count": null,
   "metadata": {},
   "outputs": [],
   "source": []
  }
 ],
 "metadata": {
  "kernelspec": {
   "display_name": "Python 3",
   "language": "python",
   "name": "python3"
  },
  "language_info": {
   "codemirror_mode": {
    "name": "ipython",
    "version": 3
   },
   "file_extension": ".py",
   "mimetype": "text/x-python",
   "name": "python",
   "nbconvert_exporter": "python",
   "pygments_lexer": "ipython3",
   "version": "3.8.5"
  }
 },
 "nbformat": 4,
 "nbformat_minor": 4
}
